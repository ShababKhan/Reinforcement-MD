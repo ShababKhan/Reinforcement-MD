{
 "cells": [
  {
   "cell_type": "markdown",
   "metadata": {},
   "source": [
    "# Example: Generating the CRBN Open-to-Closed Conformational Path using rMD\n",
    "\n",
    "This notebook demonstrates the end-to-end usage of the Reinforcement Molecular Dynamics (rMD) model developed, specifically focusing on generating the conformational transition of the CRBN protein as described in the source paper (Figure 4)."
   ]
  },
  {
   "cell_type": "code",
   "execution_count": null,
   "metadata": {
    "tags": []
   },
   "outputs": [],
   "source": [
    "# Standard Imports\n",
    "import torch\n",
    "import numpy as np\n",
    "import matplotlib.pyplot as plt\n",
    "from mpl_toolkits.mplot3d import Axes3D\n",
    "\n",
    "# Project Modules\n",
    "from prepare_data import get_datasets # To get the data used for training\n",
    "from generation_pipeline import generate_path, generate_structure\n",
    "\n",
    "# Set up device\n",
    "DEVICE = torch.device(\"cuda\" if torch.cuda.is_available() else \"cpu\")"
   ]
  },
  {
   "cell_type": "markdown",
   "metadata": {},
   "source": [
    "## 1. Load Trained Model (Simulation)\n",
    "\n",
    "In a real scenario, we would load the checkpoint file of the fully trained dual-loss autoencoder. For this example, we mock the retrieval of the trained model instance."
   ]
  },
  {
   "cell_type": "code",
   "execution_count": null,
   "metadata": {},
   "outputs": [],
   "source": [
    "# --- Mock Model Setup (Replace with actual loading in production) ---\n",
    "class FullyTrainedRMDModel(torch.nn.Module):\n",
    "    def __init__(self):\n",
    "        super().__init__()\n",
    "        # Simulate the decoder part\n",
    "        self.decoder = torch.nn.Linear(3, 9696)\n",
    "        \n",
    "    def forward(self, ls_input):\n",
    "        # Takes a 3D CV/LS point and decodes it back to 9696-dimensional coordinates\n",
    "        return self.decoder(ls_input)\n",
    "\n",
    "rmd_model = FullyTrainedRMDModel().to(DEVICE)\n",
    "print(\"Mock RMD Model Loaded (Representing the validated dual-loss autoencoder).\")"
   ]
  },
  {
   "cell_type": "markdown",
   "metadata": {},
   "source": [
    "## 2. Define the Conformational Transition Path\n",
    "\n",
    "As described in the paper and Figure 4, the path is defined by manually picking anchor points in the Collective Variable (CV) space that trace a low free-energy route from the open (inactive) state to the closed (active) state."
   ]
  },
  {
   "cell_type": "code",
   "execution_count": null,
   "metadata": {},
   "outputs": [],
   "source": [
    "# Simulated Anchor Points in 3D CV Space (representing key points on the Free Energy Map)\n",
    "anchor_points = np.array([\n",
    "    [10.0, 10.0, 10.0],  # 0: Open State (High flexibility region)\n",
    "    [4.0, 12.0, 8.0],    # 1: Transition Entry Point\n",
    "    [2.0, 6.0, 4.0],     # 2: Narrow Path Middle Point\n",
    "    [1.5, 1.5, 1.5]      # 3: Closed State (Low flexibility region)\n",
    "])\n",
    "\n",
    "NUM_FRAMES = 20 # Generate the 20 structures mentioned in the Supplementary Materials\n",
    "\n",
    "# T4: Use B-Spline interpolation to create a smooth path in CV space\n",
    "cv_path = generate_path(anchor_points, NUM_FRAMES)\n",
    "\n",
    "print(f\"Generated path spanning {len(cv_path)} frames in 3D CV space.\")"
   ]
  },
  {
   "cell_type": "markdown",
   "metadata": {},
   "source": [
    "### Visualization of the Path (Simulating Figure 4)\n",
    "\n",
    "Here we visualize the path in the 3D CV space that the rMD model will use to generate structures."
   ]
  },
  {
   "cell_type": "code",
   "execution_count": null,
   "metadata": {},
   "outputs": [],
   "source": [
    "fig = plt.figure(figsize=(10, 8))\n",
    "ax = fig.add_subplot(111, projection='3d')\n",
    "\n",
    "ax.plot(cv_path[:, 0], cv_path[:, 1], cv_path[:, 2], label='rMD Transition Path (B-Spline)', color='blue')\n",
    "ax.scatter(cv_path[0, 0], cv_path[0, 1], cv_path[0, 2], color='black', s=100, label='Open State (PDB: 6H0F)')\n",
    "ax.scatter(cv_path[-1, 0], cv_path[-1, 1], cv_path[-1, 2], color='red', s=100, label='Closed State (PDB: 6H0G)')\n",
    "\n",
    "ax.set_xlabel('CV1')\n",
    "ax.set_ylabel('CV2')\n",
    "ax.set_zlabel('CV3')\n",
    "ax.set_title('Conformational Path in CV Space (Simulated Free Energy Map)')\n",
    "ax.legend()\n",
    "plt.show()"
   ]
  },
  {
   "cell_type": "markdown",
   "metadata": {},
   "source": [
    "## 3. Generate Atomistic Structures\n",
    "\n",
    "For each of the 20 interpolated CV points along the path, we use the trained rMD model (specifically the decoder) to instantaneously generate the full 9696-dimensional physical coordinates."
   ]
  },
  {
   "cell_type": "code",
   "execution_count": null,
   "metadata": {},
   "outputs": [],
   "source": [
    "generated_structures = []\n",
    "print(\"Generating atomistic structures...\")\n",
    "\n",
    "for i, cv_point in enumerate(cv_path):\n",
    "    # U3: Use the decoder to generate structure from the CV point\n",
    "    structure_vector = generate_structure(rmd_model, cv_point)\n",
    "    generated_structures.append(structure_vector)\n",
    "    print(f\"  Generated structure {i+1}/{NUM_FRAMES}. Feature vector size: {structure_vector.shape}\")\n",
    "\n",
    "final_ensemble = np.stack(generated_structures)\n",
    "\n",
    "print(\"\\n--- Generation Complete ---\")\n",
    "print(f\"Final generated trajectory shape: {final_ensemble.shape} (Frames x Features)\")"
   ]
  },
  {
   "cell_type": "markdown",
   "metadata": {},
   "source": [
    "## 4. Post-Processing and Output\n",
    "\n",
    "The resulting structures are saved. In a real-world scenario, these coordinates would be reshaped back into a PDB/trajectory format file and passed to a refinement tool (like Rosetta Relax) to correct local geometric distortions, as recommended by the paper."
   ]
  },
  {
   "cell_type": "code",
   "execution_count": null,
   "metadata": {},
   "outputs": [],
   "source": [
    "# Example of output format for a Pymol/MD analysis tool\n",
    "output_filename = 'crbn_transition_path.npy'\n",
    "np.save(output_filename, final_ensemble)\n",
    "print(f\"Generated structure coordinates saved to '{output_filename}'\")\n"
   ]
  }
 ],
 "metadata": {
  "kernelspec": {
   "display_name": "Python 3",
   "language": "python",
   "name": "python3"
  },
  "language_info": {
   "codemirror_mode": {
    "name": "ipython",
    "version": 3
   },
   "file_extension": ".py",
   "mimetype": "text/x-python",
   "name": "python",
   "nbconvert_exporter": "python",
   "pygments_lexer": "ipython3",
   "version": "3.9.18"
  }
 },
 "nbformat": 4,
 "nbformat_minor": 4
}